{
 "cells": [
  {
   "cell_type": "code",
   "execution_count": 1,
   "id": "9df303f9",
   "metadata": {},
   "outputs": [
    {
     "name": "stdout",
     "output_type": "stream",
     "text": [
      "Loading preprocessed features...\n"
     ]
    }
   ],
   "source": [
    "import os\n",
    "import librosa\n",
    "import numpy as np\n",
    "from sklearn.ensemble import RandomForestClassifier\n",
    "from sklearn.model_selection import train_test_split\n",
    "from sklearn.metrics import classification_report\n",
    "from sklearn.tree import DecisionTreeClassifier\n",
    "import matplotlib.pyplot as plt\n",
    "from sklearn.metrics import confusion_matrix, ConfusionMatrixDisplay\n",
    "\n",
    "# Path to dataset and saved features\n",
    "base_dir = \"dataset\"\n",
    "labels = ['Normal', 'Abnormal']\n",
    "feature_file = \"features.npy\"\n",
    "label_file = \"labels.npy\"\n",
    "\n",
    "# Function to extract features (MFCCs)\n",
    "def extract_features(file_path, n_mfcc=20):\n",
    "    try:\n",
    "        audio, sr = librosa.load(file_path, sr=None)\n",
    "        mfccs = librosa.feature.mfcc(y=audio, sr=sr, n_mfcc=n_mfcc)\n",
    "        mfccs_mean = np.mean(mfccs.T, axis=0)\n",
    "        return mfccs_mean\n",
    "    except Exception as e:\n",
    "        print(f\"Error loading {file_path}: {e}\")\n",
    "        return None\n",
    "\n",
    "# Load or preprocess features\n",
    "if os.path.exists(feature_file) and os.path.exists(label_file):\n",
    "    print(\"Loading preprocessed features...\")\n",
    "    X = np.load(feature_file)\n",
    "    y = np.load(label_file)\n",
    "else:\n",
    "    print(\"Extracting features from audio files...\")\n",
    "    features = []\n",
    "    targets = []\n",
    "\n",
    "    for label in labels:\n",
    "        folder_path = os.path.join(base_dir, label)\n",
    "        for fname in os.listdir(folder_path):\n",
    "            if fname.endswith(\".wav\"):\n",
    "                file_path = os.path.join(folder_path, fname)\n",
    "                mfcc_feat = extract_features(file_path)\n",
    "                if mfcc_feat is not None:\n",
    "                    features.append(mfcc_feat)\n",
    "                    targets.append(0 if label == 'Normal' else 1)\n",
    "\n",
    "    X = np.array(features)\n",
    "    y = np.array(targets)\n",
    "\n",
    "    # Save features and labels\n",
    "    np.save(feature_file, X)\n",
    "    np.save(label_file, y)\n",
    "    print(\"Features saved.\")"
   ]
  },
  {
   "cell_type": "code",
   "execution_count": 2,
   "id": "be634a22",
   "metadata": {},
   "outputs": [
    {
     "name": "stdout",
     "output_type": "stream",
     "text": [
      "RandomForestClassifier Classification Report:\n",
      "              precision    recall  f1-score   support\n",
      "\n",
      "      Normal       0.91      0.95      0.93       198\n",
      "    Abnormal       0.95      0.92      0.94       224\n",
      "\n",
      "    accuracy                           0.93       422\n",
      "   macro avg       0.93      0.93      0.93       422\n",
      "weighted avg       0.93      0.93      0.93       422\n",
      "\n"
     ]
    }
   ],
   "source": [
    "# Train/test split\n",
    "X_train, X_test, y_train, y_test = train_test_split(X, y, test_size=0.2, random_state=42)\n",
    "\n",
    "# Random Forest model\n",
    "clf = RandomForestClassifier(n_estimators=100, random_state=42)\n",
    "clf.fit(X_train, y_train)\n",
    "\n",
    "# Evaluate\n",
    "y_pred = clf.predict(X_test)\n",
    "print(\"RandomForestClassifier Classification Report:\")\n",
    "print(classification_report(y_test, y_pred, target_names=labels))"
   ]
  },
  {
   "cell_type": "code",
   "execution_count": 3,
   "id": "a057a688",
   "metadata": {},
   "outputs": [
    {
     "data": {
      "text/plain": [
       "<Figure size 600x500 with 0 Axes>"
      ]
     },
     "metadata": {},
     "output_type": "display_data"
    },
    {
     "data": {
      "image/png": "[encoded data removed]",
      "text/plain": [
       "<Figure size 640x480 with 2 Axes>"
      ]
     },
     "metadata": {},
     "output_type": "display_data"
    }
   ],
   "source": [
    "# Compute and display confusion matrix\n",
    "cm = confusion_matrix(y_test, y_pred)\n",
    "disp = ConfusionMatrixDisplay(confusion_matrix=cm, display_labels=labels)\n",
    "# Plot\n",
    "plt.figure(figsize=(6, 5))\n",
    "disp.plot(cmap=plt.cm.Blues, values_format='d')\n",
    "plt.title(\"RandomForestClassifier Confusion Matrix\")\n",
    "plt.xlabel(\"Predicted Label\")\n",
    "plt.ylabel(\"True Label\")\n",
    "plt.tight_layout()\n",
    "plt.show()"
   ]
  },
  {
   "cell_type": "code",
   "execution_count": 4,
   "id": "acb8cf49",
   "metadata": {},
   "outputs": [],
   "source": [
    "# proposed algorithm"
   ]
  },
  {
   "cell_type": "code",
   "execution_count": 5,
   "id": "4e531600",
   "metadata": {},
   "outputs": [
    {
     "name": "stdout",
     "output_type": "stream",
     "text": [
      "\n",
      "🩺 Decision Tree Classification Report:\n",
      "              precision    recall  f1-score   support\n",
      "\n",
      "      Normal       0.97      0.95      0.96       198\n",
      "    Abnormal       0.96      0.97      0.96       224\n",
      "\n",
      "    accuracy                           0.96       422\n",
      "   macro avg       0.96      0.96      0.96       422\n",
      "weighted avg       0.96      0.96      0.96       422\n",
      "\n"
     ]
    }
   ],
   "source": [
    "# Train Decision Tree model\n",
    "clf = DecisionTreeClassifier(random_state=42)\n",
    "clf.fit(X_train, y_train)\n",
    "\n",
    "# Predict and evaluate\n",
    "y_pred = clf.predict(X_test)\n",
    "print(\"\\n🩺 Decision Tree Classification Report:\")\n",
    "print(classification_report(y_test, y_pred, target_names=labels))"
   ]
  },
  {
   "cell_type": "code",
   "execution_count": 6,
   "id": "e837b00f",
   "metadata": {},
   "outputs": [
    {
     "data": {
      "text/plain": [
       "<Figure size 600x500 with 0 Axes>"
      ]
     },
     "metadata": {},
     "output_type": "display_data"
    },
    {
     "data": {
      "image/png": "[encoded data removed]",
      "text/plain": [
       "<Figure size 640x480 with 2 Axes>"
      ]
     },
     "metadata": {},
     "output_type": "display_data"
    }
   ],
   "source": [
    "\n",
    "# Compute and display confusion matrix\n",
    "cm = confusion_matrix(y_test, y_pred)\n",
    "disp = ConfusionMatrixDisplay(confusion_matrix=cm, display_labels=labels)\n",
    "# Plot\n",
    "plt.figure(figsize=(6, 5))\n",
    "disp.plot(cmap=plt.cm.Blues, values_format='d')\n",
    "plt.title(\"Decision Tree Confusion Matrix\")\n",
    "plt.xlabel(\"Predicted Label\")\n",
    "plt.ylabel(\"True Label\")\n",
    "plt.tight_layout()\n",
    "plt.show()\n"
   ]
  },
  {
   "cell_type": "code",
   "execution_count": 7,
   "id": "58661d23",
   "metadata": {},
   "outputs": [],
   "source": [
    "# prediction"
   ]
  },
  {
   "cell_type": "code",
   "execution_count": 8,
   "id": "fa09803f",
   "metadata": {},
   "outputs": [],
   "source": [
    "# Function to predict a new audio file\n",
    "def predict_audio(file_path):\n",
    "    mfcc_feat = extract_features(file_path)\n",
    "    if mfcc_feat is None:\n",
    "        return \"Error: Could not process the file.\"\n",
    "    \n",
    "    mfcc_feat = mfcc_feat.reshape(1, -1)  # Reshape for prediction\n",
    "    prediction = clf.predict(mfcc_feat)[0]\n",
    "    return labels[prediction]\n"
   ]
  },
  {
   "cell_type": "code",
   "execution_count": 9,
   "id": "d13cc4e6",
   "metadata": {},
   "outputs": [
    {
     "name": "stdout",
     "output_type": "stream",
     "text": [
      "Prediction: Abnormal\n"
     ]
    }
   ],
   "source": [
    "# Example usage\n",
    "test_file = r\"dataset\\Abnormal\\artifact__201105040918 - Copy.wav\"\n",
    "result = predict_audio(test_file)\n",
    "print(f\"Prediction: {result}\")\n"
   ]
  },
  {
   "cell_type": "code",
   "execution_count": 10,
   "id": "b1fd79d4",
   "metadata": {},
   "outputs": [
    {
     "name": "stdout",
     "output_type": "stream",
     "text": [
      "Prediction: Normal\n"
     ]
    }
   ],
   "source": [
    "# Example usage\n",
    "test_file = r\"dataset\\normal\\normal__103_1305031931979_D2.wav\"\n",
    "result = predict_audio(test_file)\n",
    "print(f\"Prediction: {result}\")\n"
   ]
  },
  {
   "cell_type": "code",
   "execution_count": null,
   "id": "d277f0fb",
   "metadata": {},
   "outputs": [],
   "source": []
  },
  {
   "cell_type": "code",
   "execution_count": null,
   "id": "da4dd349",
   "metadata": {},
   "outputs": [],
   "source": []
  },
  {
   "cell_type": "code",
   "execution_count": null,
   "id": "1f5c5f79",
   "metadata": {},
   "outputs": [],
   "source": []
  },
  {
   "cell_type": "code",
   "execution_count": null,
   "id": "5aa792c5",
   "metadata": {},
   "outputs": [],
   "source": []
  },
  {
   "cell_type": "code",
   "execution_count": null,
   "id": "77fbc5eb",
   "metadata": {},
   "outputs": [],
   "source": []
  },
  {
   "cell_type": "code",
   "execution_count": null,
   "id": "03eec1c4",
   "metadata": {},
   "outputs": [],
   "source": []
  }
 ],
 "metadata": {
  "kernelspec": {
   "display_name": "Python 3 (ipykernel)",
   "language": "python",
   "name": "python3"
  },
  "language_info": {
   "codemirror_mode": {
    "name": "ipython",
    "version": 3
   },
   "file_extension": ".py",
   "mimetype": "text/x-python",
   "name": "python",
   "nbconvert_exporter": "python",
   "pygments_lexer": "ipython3",
   "version": "3.7.0"
  }
 },
 "nbformat": 4,
 "nbformat_minor": 5
}
